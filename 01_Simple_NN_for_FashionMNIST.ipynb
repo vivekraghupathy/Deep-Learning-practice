{
 "cells": [
  {
   "cell_type": "code",
   "execution_count": 1,
   "metadata": {},
   "outputs": [],
   "source": [
    "import tensorflow as tf\n",
    "print(tf.__version__)"
   ]
  },
  {
   "cell_type": "code",
   "execution_count": 3,
   "metadata": {},
   "outputs": [],
   "source": [
    "#Load the inbuilt dataset MNIST\n",
    "mnist_data = tf.keras.datasets.fashion_mnist\n",
    "(training_images, training_labels) ,  (test_images, test_labels) = mnist_data.load_data()"
   ]
  },
  {
   "cell_type": "code",
   "execution_count": 9,
   "metadata": {},
   "outputs": [],
   "source": [
    "#Normalize the data\n",
    "training_images = training_images/255.0\n",
    "test_images = test_images/255.0"
   ]
  },
  {
   "cell_type": "code",
   "execution_count": 11,
   "metadata": {},
   "outputs": [],
   "source": [
    "#Create the neural network layers\n",
    "#The image is 28x28, need to make it 1D before feeding to NN. Faletten layer does this\n",
    "input_layer = tf.keras.layers.Flatten()\n",
    "hidden_layer1 = tf.keras.layers.Dense(units=128,activation=tf.nn.relu)\n",
    "#The output layer should match the number of classes we need to predict. In MNIST we have 10 classes to predict\n",
    "output_layer = tf.keras.layers.Dense(units=10,activation=tf.nn.softmax)\n",
    "model = tf.keras.Sequential([input_layer,hidden_layer1,output_layer])"
   ]
  },
  {
   "cell_type": "code",
   "execution_count": 12,
   "metadata": {},
   "outputs": [
    {
     "name": "stdout",
     "output_type": "stream",
     "text": [
      "Train on 60000 samples\n",
      "Epoch 1/5\n",
      "60000/60000 [==============================] - 5s 88us/sample - loss: 0.5002 - accuracy: 0.8237\n",
      "Epoch 2/5\n",
      "60000/60000 [==============================] - 3s 56us/sample - loss: 0.3757 - accuracy: 0.8648\n",
      "Epoch 3/5\n",
      "60000/60000 [==============================] - 3s 56us/sample - loss: 0.3374 - accuracy: 0.8769\n",
      "Epoch 4/5\n",
      "60000/60000 [==============================] - 3s 55us/sample - loss: 0.3140 - accuracy: 0.8838\n",
      "Epoch 5/5\n",
      "60000/60000 [==============================] - 3s 55us/sample - loss: 0.2975 - accuracy: 0.8905\n"
     ]
    },
    {
     "data": {
      "text/plain": [
       "<tensorflow.python.keras.callbacks.History at 0x1bfbbf40a08>"
      ]
     },
     "execution_count": 12,
     "metadata": {},
     "output_type": "execute_result"
    }
   ],
   "source": [
    "#Compile the model with optimizer and metrics information\n",
    "model.compile(optimizer=tf.optimizers.Adam(),loss = 'sparse_categorical_crossentropy',\n",
    "              metrics=['accuracy'])\n",
    "model.fit(training_images,training_labels,epochs=5)"
   ]
  },
  {
   "cell_type": "code",
   "execution_count": 13,
   "metadata": {},
   "outputs": [
    {
     "name": "stdout",
     "output_type": "stream",
     "text": [
      "10000/10000 [==============================] - 0s 43us/sample - loss: 0.3449 - accuracy: 0.8754\n"
     ]
    },
    {
     "data": {
      "text/plain": [
       "[0.34488302038908003, 0.8754]"
      ]
     },
     "execution_count": 13,
     "metadata": {},
     "output_type": "execute_result"
    }
   ],
   "source": [
    "#Evaluate the model against test data\n",
    "model.evaluate(test_images,test_labels)"
   ]
  },
  {
   "cell_type": "code",
   "execution_count": 14,
   "metadata": {},
   "outputs": [],
   "source": [
    "#Predict the results for test images or can be another image with 28x28 pixels\n",
    "classifications = model.predict(test_images)"
   ]
  },
  {
   "cell_type": "code",
   "execution_count": 15,
   "metadata": {},
   "outputs": [
    {
     "data": {
      "text/plain": [
       "array([1.0389407e-04, 3.4053728e-06, 1.3011014e-01, 4.9505083e-08, 8.6082274e-01, 3.2837637e-09, 8.9410637e-03, 1.0806049e-07, 6.8386503e-06, 1.1695118e-05], dtype=float32)"
      ]
     },
     "execution_count": 15,
     "metadata": {},
     "output_type": "execute_result"
    }
   ],
   "source": [
    "#Prediction of 11th image. The result is a set of probabilities which the model assigns to 10 classes\n",
    "classifications[10]"
   ]
  },
  {
   "cell_type": "code",
   "execution_count": 16,
   "metadata": {},
   "outputs": [
    {
     "data": {
      "text/plain": [
       "4"
      ]
     },
     "execution_count": 16,
     "metadata": {},
     "output_type": "execute_result"
    }
   ],
   "source": [
    "#The classs with highest proability will give u the right class. Use argmax to get this\n",
    "np.argmax(classifications[10])"
   ]
  },
  {
   "cell_type": "code",
   "execution_count": 21,
   "metadata": {},
   "outputs": [],
   "source": [
    "#Using callbacks for controlling the training process\n",
    "class myCallback(tf.keras.callbacks.Callback):\n",
    "    def on_epoch_end(self,epoch,logs={}):\n",
    "        if logs.get('accuracy') > 0.9:\n",
    "            print('\\nAccuracy threshold reached. Stopping the train',logs.get('accuracy'))\n",
    "            self.model.stop_training=True"
   ]
  },
  {
   "cell_type": "code",
   "execution_count": 22,
   "metadata": {},
   "outputs": [
    {
     "name": "stdout",
     "output_type": "stream",
     "text": [
      "Train on 60000 samples\n",
      "Epoch 1/5\n",
      "59296/60000 [============================>.] - ETA: 0s - loss: 0.2482 - accuracy: 0.9059\n",
      "Accuracy threshold reached. Stopping the train 0.90578336\n",
      "60000/60000 [==============================] - 3s 56us/sample - loss: 0.2487 - accuracy: 0.9058\n"
     ]
    },
    {
     "data": {
      "text/plain": [
       "<tensorflow.python.keras.callbacks.History at 0x1bfbc42e288>"
      ]
     },
     "execution_count": 22,
     "metadata": {},
     "output_type": "execute_result"
    }
   ],
   "source": [
    "callbacks = myCallback()\n",
    "model.fit(training_images,training_labels,epochs=5,callbacks=[callbacks])"
   ]
  },
  {
   "cell_type": "code",
   "execution_count": null,
   "metadata": {},
   "outputs": [],
   "source": []
  }
 ],
 "metadata": {
  "kernelspec": {
   "display_name": "Python 3",
   "language": "python",
   "name": "python3"
  },
  "language_info": {
   "codemirror_mode": {
    "name": "ipython",
    "version": 3
   },
   "file_extension": ".py",
   "mimetype": "text/x-python",
   "name": "python",
   "nbconvert_exporter": "python",
   "pygments_lexer": "ipython3",
   "version": "3.7.6"
  }
 },
 "nbformat": 4,
 "nbformat_minor": 4
}
